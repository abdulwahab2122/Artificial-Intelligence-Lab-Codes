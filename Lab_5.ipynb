{
 "cells": [
  {
   "cell_type": "code",
   "execution_count": 2,
   "metadata": {},
   "outputs": [
    {
     "name": "stdout",
     "output_type": "stream",
     "text": [
      "[3, 0, 6, 1, 5, 7, 1, 3]\n"
     ]
    }
   ],
   "source": [
    "import random             \n",
    "\n",
    "POPULATION_SIZE = 1000       \n",
    "MUTATION_RATE = 0.5        \n",
    "MAX_GENERATIONS = 1000      \n",
    "BOARD_SIZE = 8              \n",
    "\n",
    "def create_individual():           \n",
    "    \"\"\"Create an new individual with a random permutation of 8 numbers\"\"\"\n",
    "    return random.sample(range(BOARD_SIZE), BOARD_SIZE)     \n",
    "\n",
    "def calculate_fitness(individual):     \n",
    "    \"\"\"Calculate the fitness of an individual\"\"\"\n",
    "    clashes = 0              \n",
    "    for i in range(len(individual)):             \n",
    "        for j in range(i + 1, len(individual)):         \n",
    "            if abs(individual[i] - individual[j]) == abs(i - j):     \n",
    "                clashes += 1            \n",
    "    return BOARD_SIZE - clashes          \n",
    "\n",
    "def selection(population):           \n",
    "    \"\"\"Select two parents from the population\"\"\"\n",
    "    return random.choices(population, weights=[calculate_fitness(individual) for individual in population], k=2)    \n",
    "\n",
    "def crossover(parents):             \n",
    "    \"\"\"Crossover two parents to create a new child\"\"\"\n",
    "    crossover_point = random.randint(1, BOARD_SIZE - 1)          \n",
    "    child = parents[0][:crossover_point] + parents[1][crossover_point:]         \n",
    "    return child     # return the new child \n",
    "\n",
    "def mutate(individual):                \n",
    "    \"\"\"Mutate an individual by swapping two randomly chosen positions\"\"\"\n",
    "    if random.random() < MUTATION_RATE:          \n",
    "        i, j = random.sample(range(BOARD_SIZE), 2)        \n",
    "        individual[i], individual[j] = individual[j], individual[i]      \n",
    "    return individual        \n",
    "\n",
    "def genetic_algorithm():             \n",
    "    \"\"\"Solve the 8-queens problem using a genetic algorithm\"\"\"\n",
    "    population = [create_individual() for _ in range(POPULATION_SIZE)]           \n",
    "    for generation in range(MAX_GENERATIONS):          \n",
    "        # Calculate fitness for each individual in the population\n",
    "        fitnesses = [calculate_fitness(individual) for individual in population]        \n",
    "        \n",
    "        # Check if we have found a solution\n",
    "        if BOARD_SIZE in fitnesses:                 \n",
    "            index = fitnesses.index(BOARD_SIZE)     \n",
    "            return population[index]                \n",
    "        \n",
    "        # Select parents and create new generation\n",
    "        new_population = []              \n",
    "        for _ in range(POPULATION_SIZE):           \n",
    "            parents = selection(population)         \n",
    "            child = crossover(parents)              \n",
    "            child = mutate(child)                    \n",
    "            new_population.append(child)            \n",
    "        population = new_population                 \n",
    "    \n",
    "    # If we haven't found a solution after MAX_GENERATIONS, return the fittest individual\n",
    "    index = fitnesses.index(max(fitnesses))     \n",
    "    return population[index]                    \n",
    "\n",
    "solution = genetic_algorithm()           \n",
    "print(solution)                     \n"
   ]
  },
  {
   "cell_type": "code",
   "execution_count": null,
   "metadata": {},
   "outputs": [],
   "source": []
  }
 ],
 "metadata": {
  "kernelspec": {
   "display_name": "Python 3 (ipykernel)",
   "language": "python",
   "name": "python3"
  },
  "language_info": {
   "codemirror_mode": {
    "name": "ipython",
    "version": 3
   },
   "file_extension": ".py",
   "mimetype": "text/x-python",
   "name": "python",
   "nbconvert_exporter": "python",
   "pygments_lexer": "ipython3",
   "version": "3.11.3"
  }
 },
 "nbformat": 4,
 "nbformat_minor": 2
}
