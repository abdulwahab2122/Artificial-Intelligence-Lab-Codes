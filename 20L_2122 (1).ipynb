{
  "cells": [
    {
      "cell_type": "code",
      "execution_count": 45,
      "metadata": {
        "colab": {
          "base_uri": "https://localhost:8080/"
        },
        "id": "v2jz74DOM1d1",
        "outputId": "8ae76401-d576-4646-e02c-12b929db9461"
      },
      "outputs": [
        {
          "name": "stdout",
          "output_type": "stream",
          "text": [
            "Invalid Chicken Input\n",
            "Number of chickens: 6\n",
            "Number of chickens: Many\n",
            "Number of chickens: Many\n"
          ]
        }
      ],
      "source": [
        "def chickens(num):\n",
        "  if num < 0:\n",
        "    print(\"Invalid Chicken Input\")\n",
        "  elif num < 10 :\n",
        "    print(\"Number of chickens:\",num)\n",
        "  else:\n",
        "    print(\"Number of chickens: Many\")\n",
        "\n",
        "chickens(-1)\n",
        "chickens(6)\n",
        "chickens(10)\n",
        "chickens(12)\n",
        "      "
      ]
    },
    {
      "cell_type": "code",
      "execution_count": 46,
      "metadata": {
        "colab": {
          "base_uri": "https://localhost:8080/"
        },
        "id": "Sb6QSFWpOl_y",
        "outputId": "e3e34f03-e05e-49ee-8bdf-98b7a4061b9f"
      },
      "outputs": [
        {
          "name": "stdout",
          "output_type": "stream",
          "text": [
            "[(2, 2), (1, 3), (3, 4, 5), (1, 7)]\n"
          ]
        }
      ],
      "source": [
        "def lastelement(arr):\n",
        "  return arr[-1]\n",
        "\n",
        "def sortlast(arr):            \n",
        "  return sorted(arr,key=lastelement)  \n",
        "\n",
        "arr = [(1, 7), (1, 3), (3, 4, 5), (2, 2)]\n",
        "print(sortlast(arr))\n"
      ]
    },
    {
      "cell_type": "code",
      "execution_count": 47,
      "metadata": {
        "colab": {
          "base_uri": "https://localhost:8080/",
          "height": 36
        },
        "id": "tYSNzpTaWfpf",
        "outputId": "78229fd0-82c2-411d-93c4-1e7d706a6238"
      },
      "outputs": [
        {
          "data": {
            "application/vnd.google.colaboratory.intrinsic+json": {
              "type": "string"
            },
            "text/plain": [
              "'pox mid'"
            ]
          },
          "execution_count": 47,
          "metadata": {},
          "output_type": "execute_result"
        }
      ],
      "source": [
        "def stringjumble(str1, str2):\n",
        "  if(len(str1) > 2 and len(str2) > 2): \n",
        "    str1Swapped = str2[0:2] + str1[2:] \n",
        "    str2Swapped = str1[0:2] + str2[2:] \n",
        "    return str1Swapped + \" \" + str2Swapped \n",
        "  return \"\" \n",
        "\n",
        "stringjumble(\"mix\",\"pod\")\n",
        "#stringjumble(\"dog\",\"dinner\")"
      ]
    },
    {
      "cell_type": "code",
      "execution_count": 1,
      "metadata": {
        "colab": {
          "base_uri": "https://localhost:8080/"
        },
        "id": "1k1OEtlFkAwg",
        "outputId": "b284a85d-5b7d-4b49-da6f-1b00cff582fa"
      },
      "outputs": [
        {
          "name": "stdout",
          "output_type": "stream",
          "text": [
            "2\n"
          ]
        }
      ],
      "source": [
        "str=['home','classroom' ,'car' ,'window' , 'house' , 'clam']\n",
        "\n",
        "length=len(str)\n",
        "k=0\n",
        "i=0\n",
        "count=0\n",
        "while(i < length):\n",
        "    temp = ''\n",
        "    current = str[i]\n",
        "    temp = current[0]\n",
        "    temp += current[-1]\n",
        "    i=i+1\n",
        "    j = i\n",
        "    while(j < length):\n",
        "        temp2 = ''\n",
        "        current2 = str[j]\n",
        "        temp2 = current2[0]\n",
        "        temp2 += current2[-1]\n",
        "        if temp==temp2:\n",
        "            count += 1\n",
        "        j=j+1\n",
        "            \n",
        "print(count)"
      ]
    }
  ],
  "metadata": {
    "colab": {
      "provenance": []
    },
    "kernelspec": {
      "display_name": "Python 3",
      "name": "python3"
    },
    "language_info": {
      "codemirror_mode": {
        "name": "ipython",
        "version": 3
      },
      "file_extension": ".py",
      "mimetype": "text/x-python",
      "name": "python",
      "nbconvert_exporter": "python",
      "pygments_lexer": "ipython3",
      "version": "3.10.11"
    }
  },
  "nbformat": 4,
  "nbformat_minor": 0
}
