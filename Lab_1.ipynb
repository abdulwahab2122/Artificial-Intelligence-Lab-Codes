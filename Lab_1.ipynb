{
  "nbformat": 4,
  "nbformat_minor": 0,
  "metadata": {
    "colab": {
      "provenance": []
    },
    "kernelspec": {
      "name": "python3",
      "display_name": "Python 3"
    },
    "language_info": {
      "name": "python"
    }
  },
  "cells": [
    {
      "cell_type": "code",
      "source": [
        "thislist=[\"H\",\"a\",\"n\",\"n\",\"a\",\"h\"]\n",
        "size=len(thislist)\n",
        "\n",
        "print('Input : ',thislist)\n",
        "\n",
        "\n",
        "def reverse(thislist):\n",
        " start=0\n",
        " end=size-1\n",
        " while start < end :\n",
        "  temp = thislist[start]\n",
        "  thislist[start] = thislist[end]\n",
        "  thislist[end] = temp\n",
        "  start = start+1\n",
        "  end = end-1\n",
        "\n",
        "\n",
        "reverse(thislist)\n",
        "print('Output :',thislist)"
      ],
      "metadata": {
        "colab": {
          "base_uri": "https://localhost:8080/"
        },
        "id": "MssvRgUmnEar",
        "outputId": "041f4ddb-1ed9-4409-e992-00055a78ea00"
      },
      "execution_count": 49,
      "outputs": [
        {
          "output_type": "stream",
          "name": "stdout",
          "text": [
            "Input :  ['H', 'a', 'n', 'n', 'a', 'h']\n",
            "Output : ['h', 'a', 'n', 'n', 'a', 'H']\n"
          ]
        }
      ]
    },
    {
      "cell_type": "code",
      "source": [
        "string = \"A man, a plan, a canal: Panama\"\n",
        "print (string)\n",
        "newst = string.casefold()\n",
        "print (newst)\n",
        "\n",
        "def convert(newst):\n",
        "  temp=\"\"\n",
        "  for x in newst: \n",
        "    if x.isalnum():\n",
        "      temp += x\n",
        "\n",
        "  return temp  \n",
        "orig = convert(newst)    \n",
        "print (orig)\n",
        "rev = orig[::-1]\n",
        "if orig == rev:\n",
        "  print (\"True\")\n",
        "else:\n",
        "  print (\"False\")  \n"
      ],
      "metadata": {
        "colab": {
          "base_uri": "https://localhost:8080/"
        },
        "id": "OzLnmqZAbC4R",
        "outputId": "20785398-7f0c-4661-c2b1-b452df31de97"
      },
      "execution_count": 51,
      "outputs": [
        {
          "output_type": "stream",
          "name": "stdout",
          "text": [
            "A man, a plan, a canal: Panama\n",
            "a man, a plan, a canal: panama\n",
            "amanaplanacanalpanama\n",
            "True\n"
          ]
        }
      ]
    },
    {
      "cell_type": "code",
      "source": [
        "def myfunc(x):\n",
        "    return int(x**0.5)\n",
        "\n",
        "val = input(\"Enter your value: \")\n",
        "x = int(val)\n",
        "print (x)\n",
        "print (myfunc(x))"
      ],
      "metadata": {
        "colab": {
          "base_uri": "https://localhost:8080/"
        },
        "id": "oni9HsGUTiwh",
        "outputId": "59475de4-13e2-4576-b147-21b65b56e3ba"
      },
      "execution_count": 52,
      "outputs": [
        {
          "output_type": "stream",
          "name": "stdout",
          "text": [
            "Enter your value: 8\n",
            "8\n",
            "2\n"
          ]
        }
      ]
    }
  ]
}
