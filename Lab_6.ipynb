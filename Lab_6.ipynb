{
 "cells": [
  {
   "cell_type": "code",
   "execution_count": 1,
   "metadata": {
    "colab": {
     "base_uri": "https://localhost:8080/"
    },
    "id": "Jy3QlFr9jHw6",
    "outputId": "1dbaf2c0-23bf-4cdd-c394-13d620b3533a"
   },
   "outputs": [
    {
     "name": "stdout",
     "output_type": "stream",
     "text": [
      "Final state:  [3, 0, 2, 1]\n"
     ]
    }
   ],
   "source": [
    "import random\n",
    "\n",
    "def calculate_attacking_pairs(state):\n",
    "    attacking_pairs = 0\n",
    "    for i in range(len(state)):\n",
    "        for j in range(i+1, len(state)):\n",
    "            if state[i] == state[j]:\n",
    "                attacking_pairs += 1\n",
    "            offset = j - i\n",
    "            if state[i] == state[j] - offset or state[i] == state[j] + offset:\n",
    "                attacking_pairs += 1\n",
    "    return attacking_pairs\n",
    "\n",
    "def hill_climbing_search():\n",
    "    current_state = [random.randint(0, 3) for i in range(4)]\n",
    "    while True:\n",
    "        attacking_pairs = calculate_attacking_pairs(current_state)\n",
    "        if attacking_pairs == 0:\n",
    "            return current_state\n",
    "        neighbor_states = []\n",
    "        for i in range(len(current_state)):\n",
    "            for j in range(4):\n",
    "                if j == current_state[i]:\n",
    "                    continue\n",
    "                neighbor_state = list(current_state)\n",
    "                neighbor_state[i] = j\n",
    "                neighbor_states.append(neighbor_state)\n",
    "        if not neighbor_states:\n",
    "            return None\n",
    "        neighbor_attacking_pairs = [(state, calculate_attacking_pairs(state)) for state in neighbor_states]\n",
    "        neighbor_attacking_pairs.sort(key=lambda x: x[1])\n",
    "        if neighbor_attacking_pairs[0][1] >= attacking_pairs:\n",
    "            return current_state\n",
    "        current_state = neighbor_attacking_pairs[0][0]\n",
    "\n",
    "solution = hill_climbing_search()\n",
    "print(\"Final state: \", solution)\n"
   ]
  },
  {
   "cell_type": "code",
   "execution_count": null,
   "metadata": {},
   "outputs": [],
   "source": []
  }
 ],
 "metadata": {
  "colab": {
   "provenance": []
  },
  "kernelspec": {
   "display_name": "Python 3 (ipykernel)",
   "language": "python",
   "name": "python3"
  },
  "language_info": {
   "codemirror_mode": {
    "name": "ipython",
    "version": 3
   },
   "file_extension": ".py",
   "mimetype": "text/x-python",
   "name": "python",
   "nbconvert_exporter": "python",
   "pygments_lexer": "ipython3",
   "version": "3.11.3"
  }
 },
 "nbformat": 4,
 "nbformat_minor": 1
}
