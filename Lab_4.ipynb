{
  "cells": [
    {
      "cell_type": "code",
      "execution_count": 10,
      "metadata": {
        "colab": {
          "base_uri": "https://localhost:8080/"
        },
        "id": "3N-lupvtQ0xu",
        "outputId": "dc3f6f4d-22ee-4181-85e3-b1f72a51b308"
      },
      "outputs": [
        {
          "name": "stdout",
          "output_type": "stream",
          "text": [
            "{False, True, 'Hamza Majeed', 2122, 2074, 1059, 1063, 'Abdul Wahab'}\n"
          ]
        }
      ],
      "source": [
        "emptyset = set()\n",
        "setX = {\"Abdul Wahab\", 2122, \"Artificial Intelligence\", 1063, True}\n",
        "\n",
        "setY = {\"Hamza Majeed\", 2074, \"Artificial Intelligence\", 1059, False}\n",
        "\n",
        "result = setX.symmetric_difference(setY)\n",
        "\n",
        "print(result)\n",
        "\n"
      ]
    },
    {
      "cell_type": "code",
      "execution_count": null,
      "metadata": {
        "id": "XZX2prOwbr1u"
      },
      "outputs": [],
      "source": [
        "def DivideNum():\n",
        "  x, y = input(\"Enter two values: \").split()\n",
        "  print(\"First Number : \", x)\n",
        "  print(\"Second Number : \", y)\n",
        "  div = int(x) / int(y)\n",
        "  print(int(div))\n",
        "\n",
        "try:\n",
        "  DivideNum()\n",
        "except TypeError:\n",
        "  print(\"Please enter numbers only.\")\n",
        "except ZeroDivisionError:\n",
        "  print(\"Infinity\")\n",
        "except ValueError:\n",
        "  print(\"Enter a positive number.\")\n",
        "\n"
      ]
    },
    {
      "cell_type": "code",
      "execution_count": null,
      "metadata": {
        "colab": {
          "base_uri": "https://localhost:8080/"
        },
        "id": "YNVMykP5haL8",
        "outputId": "c15c053d-8a05-43f6-b36d-9782efcdfc17"
      },
      "outputs": [],
      "source": [
        "def Reversse(x):\n",
        "  return x[::-1]\n",
        "\n",
        "file1 = open(\"/content/Alphabets.txt\",\"r\")\n",
        "file2 = open(\"/content/reverse.txt\", \"w\")\n",
        "for each in file1:\n",
        "  list.append(each)\n",
        "\n",
        "size=len(list)-1\n",
        "while(size>=0):\n",
        "  list2=list[size]\n",
        "  size=size-1\n",
        "  list2=Reversse(list2)\n",
        "  file2.write(list2)\n",
        "\n",
        "file2.close()\n",
        "file1.close()\n",
        "\n",
        "print(\"Reversed and Written successfully in new file\")\n",
        "  \n",
        "\n",
        "\n",
        "\n"
      ]
    }
  ],
  "metadata": {
    "colab": {
      "provenance": []
    },
    "kernelspec": {
      "display_name": "Python 3",
      "name": "python3"
    },
    "language_info": {
      "codemirror_mode": {
        "name": "ipython",
        "version": 3
      },
      "file_extension": ".py",
      "mimetype": "text/x-python",
      "name": "python",
      "nbconvert_exporter": "python",
      "pygments_lexer": "ipython3",
      "version": "3.10.11"
    }
  },
  "nbformat": 4,
  "nbformat_minor": 0
}
