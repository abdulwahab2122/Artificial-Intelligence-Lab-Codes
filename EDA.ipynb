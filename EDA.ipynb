{
 "cells": [
  {
   "cell_type": "code",
   "execution_count": 1,
   "metadata": {},
   "outputs": [
    {
     "name": "stderr",
     "output_type": "stream",
     "text": [
      "c:\\Users\\Abdul Wahab\\AppData\\Local\\Programs\\Python\\Python311\\Lib\\site-packages\\tqdm\\auto.py:21: TqdmWarning: IProgress not found. Please update jupyter and ipywidgets. See https://ipywidgets.readthedocs.io/en/stable/user_install.html\n",
      "  from .autonotebook import tqdm as notebook_tqdm\n"
     ]
    },
    {
     "name": "stdout",
     "output_type": "stream",
     "text": [
      "     CUST_ID      BALANCE  BALANCE_FREQUENCY  PURCHASES  ONEOFF_PURCHASES  \\\n",
      "0     C10001    40.900749           0.818182      95.40              0.00   \n",
      "1     C10002  3202.467416           0.909091       0.00              0.00   \n",
      "2     C10003  2495.148862           1.000000     773.17            773.17   \n",
      "3     C10004  1666.670542           0.636364    1499.00           1499.00   \n",
      "4     C10005   817.714335           1.000000      16.00             16.00   \n",
      "...      ...          ...                ...        ...               ...   \n",
      "8945  C19186    28.493517           1.000000     291.12              0.00   \n",
      "8946  C19187    19.183215           1.000000     300.00              0.00   \n",
      "8947  C19188    23.398673           0.833333     144.40              0.00   \n",
      "8948  C19189    13.457564           0.833333       0.00              0.00   \n",
      "8949  C19190   372.708075           0.666667    1093.25           1093.25   \n",
      "\n",
      "      INSTALLMENTS_PURCHASES  CASH_ADVANCE  PURCHASES_FREQUENCY  \\\n",
      "0                      95.40      0.000000             0.166667   \n",
      "1                       0.00   6442.945483             0.000000   \n",
      "2                       0.00      0.000000             1.000000   \n",
      "3                       0.00    205.788017             0.083333   \n",
      "4                       0.00      0.000000             0.083333   \n",
      "...                      ...           ...                  ...   \n",
      "8945                  291.12      0.000000             1.000000   \n",
      "8946                  300.00      0.000000             1.000000   \n",
      "8947                  144.40      0.000000             0.833333   \n",
      "8948                    0.00     36.558778             0.000000   \n",
      "8949                    0.00    127.040008             0.666667   \n",
      "\n",
      "      ONEOFF_PURCHASES_FREQUENCY  PURCHASES_INSTALLMENTS_FREQUENCY  \\\n",
      "0                       0.000000                          0.083333   \n",
      "1                       0.000000                          0.000000   \n",
      "2                       1.000000                          0.000000   \n",
      "3                       0.083333                          0.000000   \n",
      "4                       0.083333                          0.000000   \n",
      "...                          ...                               ...   \n",
      "8945                    0.000000                          0.833333   \n",
      "8946                    0.000000                          0.833333   \n",
      "8947                    0.000000                          0.666667   \n",
      "8948                    0.000000                          0.000000   \n",
      "8949                    0.666667                          0.000000   \n",
      "\n",
      "      CASH_ADVANCE_FREQUENCY  CASH_ADVANCE_TRX  PURCHASES_TRX  CREDIT_LIMIT  \\\n",
      "0                   0.000000                 0              2        1000.0   \n",
      "1                   0.250000                 4              0        7000.0   \n",
      "2                   0.000000                 0             12        7500.0   \n",
      "3                   0.083333                 1              1        7500.0   \n",
      "4                   0.000000                 0              1        1200.0   \n",
      "...                      ...               ...            ...           ...   \n",
      "8945                0.000000                 0              6        1000.0   \n",
      "8946                0.000000                 0              6        1000.0   \n",
      "8947                0.000000                 0              5        1000.0   \n",
      "8948                0.166667                 2              0         500.0   \n",
      "8949                0.333333                 2             23        1200.0   \n",
      "\n",
      "         PAYMENTS  MINIMUM_PAYMENTS  PRC_FULL_PAYMENT  TENURE  \n",
      "0      201.802084        139.509787          0.000000      12  \n",
      "1     4103.032597       1072.340217          0.222222      12  \n",
      "2      622.066742        627.284787          0.000000      12  \n",
      "3        0.000000               NaN          0.000000      12  \n",
      "4      678.334763        244.791237          0.000000      12  \n",
      "...           ...               ...               ...     ...  \n",
      "8945   325.594462         48.886365          0.500000       6  \n",
      "8946   275.861322               NaN          0.000000       6  \n",
      "8947    81.270775         82.418369          0.250000       6  \n",
      "8948    52.549959         55.755628          0.250000       6  \n",
      "8949    63.165404         88.288956          0.000000       6  \n",
      "\n",
      "[8950 rows x 18 columns]\n"
     ]
    },
    {
     "name": "stderr",
     "output_type": "stream",
     "text": [
      "Summarize dataset: 100%|██████████| 317/317 [01:20<00:00,  3.93it/s, Completed]                                                                 \n",
      "Generate report structure: 100%|██████████| 1/1 [00:10<00:00, 10.62s/it]\n",
      "Render HTML: 100%|██████████| 1/1 [00:12<00:00, 12.90s/it]\n",
      "Export report to file: 100%|██████████| 1/1 [00:00<00:00, 11.12it/s]\n"
     ]
    }
   ],
   "source": [
    "import pandas as pd\n",
    "from ydata_profiling import ProfileReport\n",
    "\n",
    "df = pd.read_csv('credit_card.csv')\n",
    "print(df)\n",
    "\n",
    "profile = ProfileReport(df)\n",
    "profile.to_file(output_file='credit_card.html')"
   ]
  }
 ],
 "metadata": {
  "kernelspec": {
   "display_name": "Python 3",
   "language": "python",
   "name": "python3"
  },
  "language_info": {
   "codemirror_mode": {
    "name": "ipython",
    "version": 3
   },
   "file_extension": ".py",
   "mimetype": "text/x-python",
   "name": "python",
   "nbconvert_exporter": "python",
   "pygments_lexer": "ipython3",
   "version": "3.11.3"
  },
  "orig_nbformat": 4
 },
 "nbformat": 4,
 "nbformat_minor": 2
}
